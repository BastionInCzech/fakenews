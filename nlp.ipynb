{
 "metadata": {
  "language_info": {
   "codemirror_mode": {
    "name": "ipython",
    "version": 3
   },
   "file_extension": ".py",
   "mimetype": "text/x-python",
   "name": "python",
   "nbconvert_exporter": "python",
   "pygments_lexer": "ipython3",
   "version": "3.8.2-final"
  },
  "orig_nbformat": 2,
  "kernelspec": {
   "name": "python38264bit5245eedff251437ba6703471b095d07f",
   "display_name": "Python 3.8.2 64-bit"
  }
 },
 "nbformat": 4,
 "nbformat_minor": 2,
 "cells": [
  {
   "cell_type": "code",
   "execution_count": null,
   "metadata": {
    "tags": []
   },
   "outputs": [],
   "source": [
    "import nltk\n",
    "f = open(\"isenttok.txt\")\n",
    "tokensi = []\n",
    "tokensb = []\n",
    "for i in f.readlines():\n",
    "    tokensi.append(i[:-1])\n",
    "\n",
    "for i in open(\"bsenttok.txt\").readlines():\n",
    "    tokensb.append(i[:-1])\n",
    "\n",
    "texti = nltk.Text(tokensi)\n",
    "textb = nltk.Text(tokensb)"
   ]
  },
  {
   "cell_type": "code",
   "execution_count": null,
   "metadata": {
    "tags": []
   },
   "outputs": [],
   "source": [
    "print(\"Idnes\", texti)\n",
    "print(\"bpk\", textb)"
   ]
  },
  {
   "source": [
    "#Building index for search\n",
    "texti.concordance(\"\")"
   ],
   "cell_type": "code",
   "metadata": {
    "tags": []
   },
   "execution_count": 56,
   "outputs": [
    {
     "output_type": "stream",
     "name": "stdout",
     "text": "no matches\n"
    }
   ]
  },
  {
   "cell_type": "code",
   "execution_count": 57,
   "metadata": {
    "tags": []
   },
   "outputs": [
    {
     "output_type": "stream",
     "name": "stdout",
     "text": "IDNES.cz\nDisplaying 25 of 2119 matches:\ne . Údajně také přesunula ze severní Sýrie asi čtyři desítky tanků k řecké hran\ntvrdil , že nás dostane z Iráku , ze Sýrie nebo z Afghánistánu . Je přirozené ,\ndět i dívky , které se pak vydaly do Sýrie a Iráku , aby se tam mohly provdat z\nútoky odcestovali do oblasti Iráku a Sýrie . Prý zahynuli , ale jejich smrt neb\nlký výpadek dodávek elektřiny zažila Sýrie v roce 2013 , kdy povstalci účastníc\nálost , vede z Egypta do Jordánska a Sýrie . Ministr energetiky Zuhajr Charbútl\nraniční média , nyní se bojím jet do Sýrie , abych tam nebyl zadržen . Přitom o\ndli policisté.Dalších 45 migrantů ze Sýrie , Bangladéše , Somálska , Pákistánu \níci z Afghánistánu , Íránu , Iráku , Sýrie a z afrických zemí , kteří utíkají p\nklad za stažení amerických vojáků ze Sýrie či za obchodní válku s Čínou.Ani v p\nhlavně v záležitostech kolem Iráku , Sýrie a Afghánistánu . Už v roce 2006 se s\n obrovské zatížení migrační vlnou ze Sýrie . „ Libanon to na začátku zvládal , \npřišlo ze sousední válkou rozvrácené Sýrie . START OF ARTICLE 56 - 11 Podle zah\nížném regionu . Jeho největší soused Sýrie je od roku 2011 ve válce.Libanon už \nz mužů uprchnuvších z válkou zmítané Sýrie do Libanonu.Zpráva vychází z výpověd\nce najít , aby mu rozmluvil cestu do Sýrie . O případných teroristových společn\nctva dobyly vesnici Baghúz na pomezí Sýrie a Iráku , vymazaly tím z mapy posled\nce zahraničních bojovníků do Iráku a Sýrie . Poslední odhady uvádějí , že loni \nlo na Kurdy ovládaná území na severu Sýrie . Kurdští předáci tvrdí , že většinu\n nebylo účelem cesty této dvojice do Sýrie účastnit se na jakékoli teroristické\npodílí na pašování zbraní z Íránu do Sýrie právě na palubách svých letadel . ST\nů , dronů a žoldáků importovaných ze Sýrie zvrátily průběh konfliktu a nyní dot\nesu a hájit se u soudu . To totiž ze Sýrie nemohla . Občanství ztratila loni v \ndla televize . Pocházeli z Turecka , Sýrie , Íránu a Iráku . Sedmapadesátiletéh\n otázce odchodu amerických vojáků ze Sýrie , kteří tak nechali své kurdské spoj\n\nBez politicke korektnosti\nDisplaying 25 of 395 matches:\nch tam zůstalo méně jak 1 % . Dnešní Sýrie byla křesťanská země , před deseti l\nary “ a „ topgány “ z Afghánistánu , Sýrie , Německa ? Copak je toto nějaká dem\n studentům z Turecka či z Iránu a ze Sýrie pomoci . 11.3.1970 Bagdad po 8 letec\nkomunistické země ! Ale z Iráku a ze Sýrie bylo kurdských studentů moře ! Brzy \nh studentů moře ! Brzy mi Kurdové ze Sýrie vzali pas a za pár dní mi ho vrátili\nným razítkem ! Tyhle kulišárny ti ze Sýrie skutečně uměli kouzelně vyřešit . A \nen večer byli . Kurdové z Iráku , ze Sýrie , z Iránu , z Turecka , ale ještě k \n , že se lidé pomalu mohou vracet do Sýrie ? Těmi námitkami myslíme ony „ Asado\nopy . Je sice jasné , že kdyby se do Sýrie vrátili všichni , tak nám rozbijí tu\ndu “ nedělal , tak proč by v případě Sýrie měla ta „ věda “ nastat ? To nedává \nválku , kterou vede Turecko na území Sýrie a která nemá a nemůže mít oporu v an\nteroristy shromážděné v Idlibu a jak Sýrie , tak ale i Rusové , nechtějí , aby \nhodli ? Na tom , co vlastně Rusové a Sýrie chce a chtěli před válkou , která za\n loď nesoucí jméno Makarov směrem do Sýrie , aby Turkům připomněla jejich za ce\nnizace či společenství patří . Takže Sýrie má právo vyhnat ze svého území cizí \nObama , který se zasloužil o rozvrat Sýrie a Libye . SCREENSHOT 1 : ICPP a poko\nrbsko , Afghánistán , Irák , Libye , Sýrie se sta tisíci mrtvými jsou toho dokl\nčinnosti . Copak snad Rusko , Čína , Sýrie a vůbec zbytek světa má právo soudit\nie do Íráku , Libye , Afghánistánu , Sýrie , Jugoslávie , Ukrajiny etc. , etc ,\nvědoma situace a pozvala utečence ze Sýrie u vědomí toho , že je vychová v příš\ného pan Uzunoglu během jeho cesty do Sýrie doprovázel , k bodu 2 se mohou vyjád\nk zasejc v Německu parta migrantů ze Sýrie , Íránu a Afghánistánu napadla dvě m\nc nového , známe to již z Ukrajiny a Sýrie , odkud většina médií pravdivé infor\nlný být začíná . Odchod Američanů ze Sýrie doplnil při své vánoční návštěvě int\nkéhokoli mandátu porušují celistvost Sýrie Dobře doložil , jak dlouhodobě také \n"
    }
   ],
   "source": [
    "print(\"IDNES.cz\")\n",
    "texti.concordance(\"sýrie\")\n",
    "print(\"\\nBez politicke korektnosti\")\n",
    "textb.concordance(\"sýrie\")"
   ]
  },
  {
   "cell_type": "code",
   "execution_count": 60,
   "metadata": {
    "tags": []
   },
   "outputs": [
    {
     "output_type": "stream",
     "name": "stdout",
     "text": "IDNES.cz\n"
    },
    {
     "output_type": "error",
     "ename": "AttributeError",
     "evalue": "'Text' object has no attribute 'similliar'",
     "traceback": [
      "\u001b[0;31m---------------------------------------------------------------------------\u001b[0m",
      "\u001b[0;31mAttributeError\u001b[0m                            Traceback (most recent call last)",
      "\u001b[0;32m<ipython-input-60-9f906cb15a61>\u001b[0m in \u001b[0;36m<module>\u001b[0;34m\u001b[0m\n\u001b[1;32m      1\u001b[0m \u001b[0mprint\u001b[0m\u001b[0;34m(\u001b[0m\u001b[0;34m\"IDNES.cz\"\u001b[0m\u001b[0;34m)\u001b[0m\u001b[0;34m\u001b[0m\u001b[0;34m\u001b[0m\u001b[0m\n\u001b[0;32m----> 2\u001b[0;31m \u001b[0mtexti\u001b[0m\u001b[0;34m.\u001b[0m\u001b[0msimilliar\u001b[0m\u001b[0;34m(\u001b[0m\u001b[0;34m\"sýrie\"\u001b[0m\u001b[0;34m)\u001b[0m\u001b[0;34m\u001b[0m\u001b[0;34m\u001b[0m\u001b[0m\n\u001b[0m\u001b[1;32m      3\u001b[0m \u001b[0mprint\u001b[0m\u001b[0;34m(\u001b[0m\u001b[0;34m\"\\nBez politicke korektnosti\"\u001b[0m\u001b[0;34m)\u001b[0m\u001b[0;34m\u001b[0m\u001b[0;34m\u001b[0m\u001b[0m\n\u001b[1;32m      4\u001b[0m \u001b[0mtextb\u001b[0m\u001b[0;34m.\u001b[0m\u001b[0msimiliar\u001b[0m\u001b[0;34m(\u001b[0m\u001b[0;34m\"sýrie\"\u001b[0m\u001b[0;34m)\u001b[0m\u001b[0;34m\u001b[0m\u001b[0;34m\u001b[0m\u001b[0m\n",
      "\u001b[0;31mAttributeError\u001b[0m: 'Text' object has no attribute 'similliar'"
     ]
    }
   ],
   "source": [
    "print(\"IDNES.cz\")\n",
    "texti.similar(\"sýrie\")\n",
    "print(\"\\nBez politicke korektnosti\")\n",
    "textb.similar(\"sýrie\")"
   ]
  },
  {
   "cell_type": "code",
   "execution_count": null,
   "metadata": {},
   "outputs": [],
   "source": []
  }
 ]
}