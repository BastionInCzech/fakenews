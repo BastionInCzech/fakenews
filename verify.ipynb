{
 "metadata": {
  "language_info": {
   "codemirror_mode": {
    "name": "ipython",
    "version": 3
   },
   "file_extension": ".py",
   "mimetype": "text/x-python",
   "name": "python",
   "nbconvert_exporter": "python",
   "pygments_lexer": "ipython3",
   "version": "3.8.2-final"
  },
  "orig_nbformat": 2,
  "kernelspec": {
   "name": "python38264bit7a83bb5bcf3c4c668ba00d9e82257f4d",
   "display_name": "Python 3.8.2 64-bit"
  }
 },
 "nbformat": 4,
 "nbformat_minor": 2,
 "cells": [
  {
   "cell_type": "code",
   "execution_count": 7,
   "metadata": {
    "tags": []
   },
   "outputs": [
    {
     "output_type": "stream",
     "name": "stdout",
     "text": "['/home/basta/Documents/python/fakenews', '/tmp/51e2df19-428a-4909-9520-80faf5df1cce', '/home/basta/.vscode/extensions/ms-python.python-2020.8.109390/pythonFiles', '/home/basta/.vscode/extensions/ms-python.python-2020.8.109390/pythonFiles/lib/python', '/usr/lib/python38.zip', '/usr/lib/python3.8', '/usr/lib/python3.8/lib-dynload', '', '/home/basta/.local/lib/python3.8/site-packages', '/usr/local/lib/python3.8/dist-packages', '/usr/local/lib/python3.8/dist-packages/duckduckgo_async-0.400-py3.8.egg', '/usr/local/lib/python3.8/dist-packages/ratelimit-2.2.1-py3.8.egg', '/usr/local/lib/python3.8/dist-packages/aiohttp-4.0.0a1-py3.8-linux-x86_64.egg', '/usr/local/lib/python3.8/dist-packages/yarl-1.5.1-py3.8-linux-x86_64.egg', '/usr/local/lib/python3.8/dist-packages/typing_extensions-3.7.4.3-py3.8.egg', '/usr/local/lib/python3.8/dist-packages/multidict-4.7.6-py3.8-linux-x86_64.egg', '/usr/local/lib/python3.8/dist-packages/attrs-20.2.0-py3.8.egg', '/usr/local/lib/python3.8/dist-packages/async_timeout-3.0.1-py3.8.egg', '/usr/lib/python3/dist-packages', '/home/basta/.local/lib/python3.8/site-packages/IPython/extensions', '/home/basta/.ipython']\n"
    }
   ],
   "source": [
    "import sys\n",
    "print(sys.path)"
   ]
  },
  {
   "cell_type": "code",
   "execution_count": 8,
   "metadata": {
    "tags": []
   },
   "outputs": [],
   "source": [
    "from googlesearch import search\n",
    "\n",
    "query = \"test\""
   ]
  },
  {
   "cell_type": "code",
   "execution_count": 9,
   "metadata": {
    "tags": []
   },
   "outputs": [
    {
     "output_type": "stream",
     "name": "stdout",
     "text": "1\n2\n3\n4\n5\n['https://www.idnes.cz/zpravy/zahranicni/nemecko-cesko-rizikova-oblast-nakaza.A200922_091033_zahranicni_elka', 'https://www.e15.cz/koronahelpdesk-e15/infografika-nemecko-zrejme-zavede-cestovni-omezeni-pro-celou-ceskou-republiku-1369084', 'https://www.idnes.cz/fotbal/zahranici/luis-suarez-italstina-podvod.A200922_131620_fot_zahranici_vp2', 'https://www.dtest.cz/', 'https://www.dtest.cz/clanek-8198/test-kombinovanych-chladnicek-2020']\n"
    }
   ],
   "source": [
    "my_results = []\n",
    "n_results = 0\n",
    "for i in search(query,        # The query you want to run\n",
    "                tld = 'com',  # The top level domain\n",
    "                lang = 'cz',  # The language\n",
    "                num = 10,     # Number of results per page\n",
    "                start = 0,    # First result to retrieve\n",
    "                stop = None,  # Last result to retrieve\n",
    "                pause = 2.0,  # Lapse between HTTP requests\n",
    "               ):\n",
    "    n_results += 1\n",
    "    print(n_results)\n",
    "    my_results.append(i)\n",
    "    if n_results == 5:\n",
    "        pass\n",
    "        break\n",
    "\n",
    "print(my_results)"
   ]
  },
  {
   "cell_type": "code",
   "execution_count": 21,
   "metadata": {
    "tags": []
   },
   "outputs": [
    {
     "output_type": "stream",
     "name": "stdout",
     "text": "Trueval: 0\nFakeval: 0\n1 https://www.seznamzpravy.cz/clanek/kazdy-den-trneme-co-politici-vypusti-z-ust-rika-sef-prodejce-vstupenek-120975\n0.5905131443513212 https://www.seznamzpravy.cz/clanek/vojtechu-odstup-a-udelame-ti-koncert-uz-nemuzeme-rika-sef-ticketstream-120290\nTrueval: 0\nFakeval: 0\n1 https://www.seznam.cz/stitek/polsko-23913\nTrueval: 0\nFakeval: 0\n1 https://www.seznam.cz/#!/?q=afrodita%20hry&type=all&from=0&to=1\n0.9494877819861446 https://www.novinky.cz/denni-tisk/zpravy\n\nTotal: 0.3080001852674932\n"
    }
   ],
   "source": [
    "from fakecalc import *\n",
    "\n",
    "def truthness_from_url(url):\n",
    "    return fakecalc(text_from_html(url_to_html(url)))\n",
    "\n",
    "def statement_truth(stat, literal=False):\n",
    "    results = []\n",
    "    n_results = 0\n",
    "    if literal:\n",
    "        stat = \"\\\"\" + stat\n",
    "        stat += \"\\\"\"\n",
    "\n",
    "    for i in search(stat,        # The query you want to run\n",
    "                    tld = 'com',  # The top level domain\n",
    "                    lang = 'cz',  # The language\n",
    "                    num = 10,     # Number of results per page\n",
    "                    start = 0,    # First result to retrieve\n",
    "                    stop = None,  # Last result to retrieve\n",
    "                    pause = 2.0,  # Lapse between HTTP requests\n",
    "                ):\n",
    "        n_results += 1\n",
    "        results.append(i)\n",
    "        if n_results == 5:\n",
    "            pass\n",
    "            break\n",
    "\n",
    "    if len(results) == 0:\n",
    "        print(\"Nenalezeny žádné výslekdy\")\n",
    "        return 0\n",
    "    \n",
    "    if len(results) == 1:\n",
    "        print(\"Nalezen pouze jeden výsledek\")\n",
    "        return 0\n",
    "\n",
    "    suma = 0\n",
    "    amount_of_results = 0\n",
    "\n",
    "    for link in results:\n",
    "        amount_of_results += 1\n",
    "        current_truthness = truthness_from_url(link)\n",
    "        if current_truthness != 1 and current_truthness != 0:\n",
    "            suma += current_truthness\n",
    "        print(current_truthness, link)\n",
    "\n",
    "    print(\"\\nTotal:\", suma/amount_of_results)\n",
    "    \n",
    "statement_truth(\"Na koncert exministra Vojtěcha se prodalo už 730 vstupenek\", literal=False)\n",
    "#print(statement_truth(\"Zeman je idiot\"))"
   ]
  },
  {
   "cell_type": "code",
   "execution_count": null,
   "metadata": {},
   "outputs": [],
   "source": []
  }
 ]
}